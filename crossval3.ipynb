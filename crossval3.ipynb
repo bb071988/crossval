{
 "cells": [
  {
   "cell_type": "code",
   "execution_count": 4,
   "metadata": {
    "collapsed": true
   },
   "outputs": [],
   "source": [
    "%matplotlib inline"
   ]
  },
  {
   "cell_type": "code",
   "execution_count": 5,
   "metadata": {
    "collapsed": false
   },
   "outputs": [],
   "source": [
    "import multiple_reg as mr\n",
    "import pandas as pd\n",
    "import numpy as np\n",
    "import statsmodels.api as sm\n",
    "import statsmodels.formula.api as smf"
   ]
  },
  {
   "cell_type": "code",
   "execution_count": 6,
   "metadata": {
    "collapsed": false
   },
   "outputs": [],
   "source": [
    "# get loandata\n",
    "loansData = pd.read_csv('https://spark-public.s3.amazonaws.com/dataanalysis/loansData.csv')"
   ]
  },
  {
   "cell_type": "code",
   "execution_count": 7,
   "metadata": {
    "collapsed": false
   },
   "outputs": [],
   "source": [
    "loansData['Interest.Rate'] = [float(interest[0:-1])/100 for interest in loansData['Interest.Rate']]\n",
    "loansData['Loan.Length'] = [int(length[0:-7]) for length in loansData['Loan.Length']]\n",
    "loansData['FICO.Score'] = [int(val.split('-')[0]) for val in loansData['FICO.Range']]"
   ]
  },
  {
   "cell_type": "code",
   "execution_count": 8,
   "metadata": {
    "collapsed": false
   },
   "outputs": [],
   "source": [
    "# extract the columns from the data frame returning a series\n",
    "intrate = loansData['Interest.Rate']\n",
    "loanamt = loansData['Amount.Requested']\n",
    "fico = loansData['FICO.Score']\n",
    "\n",
    "# create new dataframe to try r style formula\n",
    "# dfrstyle = loansData['Interest.Rate','FICO.Score','Amount.Requested']\n",
    "# dfrstyle = loansData.ix[:,'Interest.Rate'] NO NEED FOR THIS JUST USE THE DF"
   ]
  },
  {
   "cell_type": "code",
   "execution_count": 9,
   "metadata": {
    "collapsed": false
   },
   "outputs": [],
   "source": [
    "# reshape the data\n",
    "# The dependent variable\n",
    "y = np.matrix(intrate).transpose()\n",
    "# The independent variables shaped as columns\n",
    "x1 = np.matrix(fico).transpose()\n",
    "x2 = np.matrix(loanamt).transpose()"
   ]
  },
  {
   "cell_type": "code",
   "execution_count": 10,
   "metadata": {
    "collapsed": true
   },
   "outputs": [],
   "source": [
    "# put the columns back together to create a matrix\n",
    "x = np.column_stack([x1,x2])"
   ]
  },
  {
   "cell_type": "code",
   "execution_count": 11,
   "metadata": {
    "collapsed": false
   },
   "outputs": [],
   "source": [
    "# create the linear model with statsmodels - # read more about stats models\n",
    "X = sm.add_constant(x)\n",
    "model = sm.OLS(y,X)\n",
    "f = model.fit()"
   ]
  },
  {
   "cell_type": "code",
   "execution_count": 12,
   "metadata": {
    "collapsed": false
   },
   "outputs": [
    {
     "data": {
      "text/html": [
       "<table class=\"simpletable\">\n",
       "<caption>OLS Regression Results</caption>\n",
       "<tr>\n",
       "  <th>Dep. Variable:</th>            <td>y</td>        <th>  R-squared:         </th>  <td>   0.657</td> \n",
       "</tr>\n",
       "<tr>\n",
       "  <th>Model:</th>                   <td>OLS</td>       <th>  Adj. R-squared:    </th>  <td>   0.656</td> \n",
       "</tr>\n",
       "<tr>\n",
       "  <th>Method:</th>             <td>Least Squares</td>  <th>  F-statistic:       </th>  <td>   2388.</td> \n",
       "</tr>\n",
       "<tr>\n",
       "  <th>Date:</th>             <td>Mon, 07 Nov 2016</td> <th>  Prob (F-statistic):</th>   <td>  0.00</td>  \n",
       "</tr>\n",
       "<tr>\n",
       "  <th>Time:</th>                 <td>18:42:19</td>     <th>  Log-Likelihood:    </th>  <td>  5727.6</td> \n",
       "</tr>\n",
       "<tr>\n",
       "  <th>No. Observations:</th>      <td>  2500</td>      <th>  AIC:               </th> <td>-1.145e+04</td>\n",
       "</tr>\n",
       "<tr>\n",
       "  <th>Df Residuals:</th>          <td>  2497</td>      <th>  BIC:               </th> <td>-1.143e+04</td>\n",
       "</tr>\n",
       "<tr>\n",
       "  <th>Df Model:</th>              <td>     2</td>      <th>                     </th>      <td> </td>    \n",
       "</tr>\n",
       "<tr>\n",
       "  <th>Covariance Type:</th>      <td>nonrobust</td>    <th>                     </th>      <td> </td>    \n",
       "</tr>\n",
       "</table>\n",
       "<table class=\"simpletable\">\n",
       "<tr>\n",
       "    <td></td>       <th>coef</th>     <th>std err</th>      <th>t</th>      <th>P>|t|</th> <th>[95.0% Conf. Int.]</th> \n",
       "</tr>\n",
       "<tr>\n",
       "  <th>const</th> <td>    0.7288</td> <td>    0.010</td> <td>   73.734</td> <td> 0.000</td> <td>    0.709     0.748</td>\n",
       "</tr>\n",
       "<tr>\n",
       "  <th>x1</th>    <td>   -0.0009</td> <td>  1.4e-05</td> <td>  -63.022</td> <td> 0.000</td> <td>   -0.001    -0.001</td>\n",
       "</tr>\n",
       "<tr>\n",
       "  <th>x2</th>    <td> 2.107e-06</td> <td>  6.3e-08</td> <td>   33.443</td> <td> 0.000</td> <td> 1.98e-06  2.23e-06</td>\n",
       "</tr>\n",
       "</table>\n",
       "<table class=\"simpletable\">\n",
       "<tr>\n",
       "  <th>Omnibus:</th>       <td>69.496</td> <th>  Durbin-Watson:     </th> <td>   1.979</td>\n",
       "</tr>\n",
       "<tr>\n",
       "  <th>Prob(Omnibus):</th> <td> 0.000</td> <th>  Jarque-Bera (JB):  </th> <td>  77.811</td>\n",
       "</tr>\n",
       "<tr>\n",
       "  <th>Skew:</th>          <td> 0.379</td> <th>  Prob(JB):          </th> <td>1.27e-17</td>\n",
       "</tr>\n",
       "<tr>\n",
       "  <th>Kurtosis:</th>      <td> 3.414</td> <th>  Cond. No.          </th> <td>2.96e+05</td>\n",
       "</tr>\n",
       "</table>"
      ],
      "text/plain": [
       "<class 'statsmodels.iolib.summary.Summary'>\n",
       "\"\"\"\n",
       "                            OLS Regression Results                            \n",
       "==============================================================================\n",
       "Dep. Variable:                      y   R-squared:                       0.657\n",
       "Model:                            OLS   Adj. R-squared:                  0.656\n",
       "Method:                 Least Squares   F-statistic:                     2388.\n",
       "Date:                Mon, 07 Nov 2016   Prob (F-statistic):               0.00\n",
       "Time:                        18:42:19   Log-Likelihood:                 5727.6\n",
       "No. Observations:                2500   AIC:                        -1.145e+04\n",
       "Df Residuals:                    2497   BIC:                        -1.143e+04\n",
       "Df Model:                           2                                         \n",
       "Covariance Type:            nonrobust                                         \n",
       "==============================================================================\n",
       "                 coef    std err          t      P>|t|      [95.0% Conf. Int.]\n",
       "------------------------------------------------------------------------------\n",
       "const          0.7288      0.010     73.734      0.000         0.709     0.748\n",
       "x1            -0.0009    1.4e-05    -63.022      0.000        -0.001    -0.001\n",
       "x2          2.107e-06    6.3e-08     33.443      0.000      1.98e-06  2.23e-06\n",
       "==============================================================================\n",
       "Omnibus:                       69.496   Durbin-Watson:                   1.979\n",
       "Prob(Omnibus):                  0.000   Jarque-Bera (JB):               77.811\n",
       "Skew:                           0.379   Prob(JB):                     1.27e-17\n",
       "Kurtosis:                       3.414   Cond. No.                     2.96e+05\n",
       "==============================================================================\n",
       "\n",
       "Warnings:\n",
       "[1] Standard Errors assume that the covariance matrix of the errors is correctly specified.\n",
       "[2] The condition number is large, 2.96e+05. This might indicate that there are\n",
       "strong multicollinearity or other numerical problems.\n",
       "\"\"\""
      ]
     },
     "execution_count": 12,
     "metadata": {},
     "output_type": "execute_result"
    }
   ],
   "source": [
    "f.summary()"
   ]
  },
  {
   "cell_type": "code",
   "execution_count": 13,
   "metadata": {
    "collapsed": false
   },
   "outputs": [
    {
     "name": "stdout",
     "output_type": "stream",
     "text": [
      "0.14094\n"
     ]
    }
   ],
   "source": [
    "#interest rate = .7299 + -.0009(fico) + 2.108e-06(loanamount)\n",
    "# fico 700 and loan amount 20000 ir of 14.09%\n",
    "\n",
    "# irtest = .7288 - (.0009 * 700) + (2.108 * np.e**-6 * 20000)\n",
    "irtest = .7288 - (.0009 * 700) + (.000002107 * 20000)\n",
    "print(irtest)"
   ]
  },
  {
   "cell_type": "code",
   "execution_count": 14,
   "metadata": {
    "collapsed": false
   },
   "outputs": [
    {
     "data": {
      "text/plain": [
       "array([  7.28827983e-01,  -8.84424222e-04,   2.10747769e-06])"
      ]
     },
     "execution_count": 14,
     "metadata": {},
     "output_type": "execute_result"
    }
   ],
   "source": [
    "f.params"
   ]
  },
  {
   "cell_type": "code",
   "execution_count": 15,
   "metadata": {
    "collapsed": false
   },
   "outputs": [
    {
     "name": "stdout",
     "output_type": "stream",
     "text": [
      "Baseline fico 750 amount 10,000 - rate is [ 0.08658459]\n",
      "Test 1 - Increase fico to 800 amount stays 10,000 expect rate to go down - rate is [ 0.04236338]\n",
      "test 2 - fico stays at 750 increase amount to 20,000 expect rate to go up - rate is [ 0.10765937]\n"
     ]
    }
   ],
   "source": [
    "# reasonableness check\n",
    "# model takes constant, fico, amount as input and returns interest rate\n",
    "\n",
    "\n",
    "print(\"Baseline fico 750 amount 10,000 - rate is {}\".format(f.predict([1, 750, 10000])))\n",
    "print(\"Test 1 - Increase fico to 800 amount stays 10,000 expect rate to go down - rate is {}\".format(f.predict([1, 800, 10000])))\n",
    "print(\"test 2 - fico stays at 750 increase amount to 20,000 expect rate to go up - rate is {}\".format(f.predict([1, 750, 20000])))\n"
   ]
  },
  {
   "cell_type": "code",
   "execution_count": 16,
   "metadata": {
    "collapsed": false
   },
   "outputs": [],
   "source": [
    "# linmodel_D = smf.ols(formula='Rate ~ FICO + loanamt + ocl + rcb + i6m + ai', data=df).fit()\n",
    "# refactor for r style using smf.formula.api as smf\n",
    "\n",
    "loansData['ir']=loansData['Interest.Rate']\n",
    "loansData['amount']=loansData['Amount.Requested']\n",
    "loansData['fico'] = loansData['FICO.Score']\n",
    "\n",
    "# g = smf.ols(formula = 'intrate ~ loanamt  + fico' data = )\n",
    "g = smf.ols(formula = 'ir ~ amount + fico', data = loansData).fit()"
   ]
  },
  {
   "cell_type": "code",
   "execution_count": 17,
   "metadata": {
    "collapsed": false
   },
   "outputs": [
    {
     "name": "stdout",
     "output_type": "stream",
     "text": [
      "0.728827983168\n",
      "2.10747768548e-06\n",
      "-0.000884424221792\n"
     ]
    }
   ],
   "source": [
    "for param in g.params:\n",
    "    print(param)"
   ]
  },
  {
   "cell_type": "code",
   "execution_count": 18,
   "metadata": {
    "collapsed": false
   },
   "outputs": [],
   "source": [
    "from sklearn.model_selection import KFold\n",
    "from sklearn.model_selection import train_test_split"
   ]
  },
  {
   "cell_type": "code",
   "execution_count": 19,
   "metadata": {
    "collapsed": true
   },
   "outputs": [],
   "source": [
    "def mean_square(dftest, model):\n",
    "    pirdifsum = 0\n",
    "    \n",
    "    \n",
    "    for i in range(dftest.shape[0]): \n",
    "        item = dftest.iloc[i]\n",
    "        pir = kfmodel.predict(item)\n",
    "        pirdif = pir - item['ir']\n",
    "        pirdifsum = pirdifsum + pirdif**2\n",
    "\n",
    "    meansqerror = pirdifsum / dftest.shape[0]\n",
    "    \n",
    "    return(meansqerror)\n",
    "        \n",
    "        \n"
   ]
  },
  {
   "cell_type": "code",
   "execution_count": 22,
   "metadata": {
    "collapsed": false
   },
   "outputs": [
    {
     "name": "stdout",
     "output_type": "stream",
     "text": [
      "mean squared error for model is [ 0.00066772]\n",
      "mean squared error for model is [ 0.00061569]\n",
      "mean squared error for model is [ 0.00062959]\n",
      "mean squared error for model is [ 0.0005562]\n",
      "mean squared error for model is [ 0.00059758]\n",
      "mean squared error for model is [ 0.00060341]\n",
      "mean squared error for model is [ 0.00052686]\n",
      "mean squared error for model is [ 0.00059656]\n",
      "mean squared error for model is [ 0.00065213]\n",
      "mean squared error for model is [ 0.00056755]\n"
     ]
    }
   ],
   "source": [
    "# use kfold to get test and train sets\n",
    "kf = KFold(n_splits = 10)\n",
    "modellist = []\n",
    "\n",
    "for train, test in kf.split(loansData):\n",
    "#     print(\"{} {}\".format(train,test))\n",
    "    dftrain = loansData.iloc[train]\n",
    "    kfmodel = smf.ols(formula = 'ir ~ amount + fico', data = dftrain).fit()\n",
    "    modellist.append(kfmodel) # make a list of the models so we can use the one with least squares.\n",
    "    dftest = loansData.iloc[test]\n",
    "#     print(kfmodel.params)\n",
    "    mean_sq_error = mean_square(dftest, kfmodel)\n",
    "#     print(kfmodel.summary())\n",
    "    print(\"mean squared error for model is {}\".format(mean_sq_error))\n",
    "    \n",
    "\n",
    "# run model against train\n",
    "# run model against test and review outputs\n"
   ]
  },
  {
   "cell_type": "code",
   "execution_count": 23,
   "metadata": {
    "collapsed": false
   },
   "outputs": [
    {
     "data": {
      "text/plain": [
       "list"
      ]
     },
     "execution_count": 23,
     "metadata": {},
     "output_type": "execute_result"
    }
   ],
   "source": [
    "type(modellist)"
   ]
  },
  {
   "cell_type": "code",
   "execution_count": 25,
   "metadata": {
    "collapsed": false
   },
   "outputs": [
    {
     "data": {
      "text/plain": [
       "Intercept    0.725206\n",
       "amount       0.000002\n",
       "fico        -0.000880\n",
       "dtype: float64"
      ]
     },
     "execution_count": 25,
     "metadata": {},
     "output_type": "execute_result"
    }
   ],
   "source": [
    "modellist[0].params\n"
   ]
  },
  {
   "cell_type": "code",
   "execution_count": null,
   "metadata": {
    "collapsed": true
   },
   "outputs": [],
   "source": []
  }
 ],
 "metadata": {
  "kernelspec": {
   "display_name": "Python 2",
   "language": "python",
   "name": "python2"
  },
  "language_info": {
   "codemirror_mode": {
    "name": "ipython",
    "version": 2
   },
   "file_extension": ".py",
   "mimetype": "text/x-python",
   "name": "python",
   "nbconvert_exporter": "python",
   "pygments_lexer": "ipython2",
   "version": "2.7.12"
  }
 },
 "nbformat": 4,
 "nbformat_minor": 0
}
