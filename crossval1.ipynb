{
 "cells": [
  {
   "cell_type": "code",
   "execution_count": null,
   "metadata": {
    "collapsed": true
   },
   "outputs": [],
   "source": [
    "%matplotlib inline"
   ]
  },
  {
   "cell_type": "code",
   "execution_count": 2,
   "metadata": {
    "collapsed": true
   },
   "outputs": [],
   "source": [
    "import numpy as np\n",
    "import matplotlib.pyplot as plt\n",
    "import pandas as pd\n",
    "import statsmodels.api as sm\n",
    "import re"
   ]
  },
  {
   "cell_type": "code",
   "execution_count": 6,
   "metadata": {
    "collapsed": false
   },
   "outputs": [],
   "source": [
    "# get loandata\n",
    "loansData = pd.read_csv('https://spark-public.s3.amazonaws.com/dataanalysis/loansData.csv')"
   ]
  },
  {
   "cell_type": "code",
   "execution_count": 7,
   "metadata": {
    "collapsed": false
   },
   "outputs": [],
   "source": [
    "# clean interest rate using regex - ability to replace so df objects are mutable\n",
    "loansData['Interest.Rate'] = [float(re.search('^[0-9]*.[0-9]*',loan).group(0))/100 for loan in loansData['Interest.Rate']]"
   ]
  },
  {
   "cell_type": "code",
   "execution_count": 8,
   "metadata": {
    "collapsed": true
   },
   "outputs": [],
   "source": [
    "# clean fico range and get score \n",
    "loansData['FICO.Score'] = map(lambda x: int(x.split('-')[0]), loansData['FICO.Range'])"
   ]
  },
  {
   "cell_type": "code",
   "execution_count": null,
   "metadata": {
    "collapsed": true
   },
   "outputs": [],
   "source": [
    "# Linear Fit\n",
    "# poly_1 = smf.ols(formula='y ~ 1 + X', data=train_df).fit()\n"
   ]
  },
  {
   "cell_type": "code",
   "execution_count": 9,
   "metadata": {
    "collapsed": false
   },
   "outputs": [
    {
     "data": {
      "text/plain": [
       "['Amount.Requested',\n",
       " 'Amount.Funded.By.Investors',\n",
       " 'Interest.Rate',\n",
       " 'Loan.Length',\n",
       " 'Loan.Purpose',\n",
       " 'Debt.To.Income.Ratio',\n",
       " 'State',\n",
       " 'Home.Ownership',\n",
       " 'Monthly.Income',\n",
       " 'FICO.Range',\n",
       " 'Open.CREDIT.Lines',\n",
       " 'Revolving.CREDIT.Balance',\n",
       " 'Inquiries.in.the.Last.6.Months',\n",
       " 'Employment.Length',\n",
       " 'FICO.Score']"
      ]
     },
     "execution_count": 9,
     "metadata": {},
     "output_type": "execute_result"
    }
   ],
   "source": [
    "loansData.columns.tolist()"
   ]
  },
  {
   "cell_type": "code",
   "execution_count": null,
   "metadata": {
    "collapsed": true
   },
   "outputs": [],
   "source": [
    "model1 = smf.ols(formula = 'y ~')\n",
    "\n",
    "import numpy as np\n",
    "import statsmodels.formula.api as smf\n",
    "\n",
    "# Set seed for reproducible results\n",
    "np.random.seed(414)\n",
    "\n",
    "# Gen toy data\n",
    "X = np.linspace(0, 15, 1000)\n",
    "y = 3 * np.sin(X) + np.random.normal(1 + X, .2, 1000)\n",
    "\n",
    "train_X, train_y = X[:700], y[:700]\n",
    "test_X, test_y = X[700:], y[700:]\n",
    "\n",
    "train_df = pd.DataFrame({'X': train_X, 'y': train_y})\n",
    "test_df = pd.DataFrame({'X': test_X, 'y': test_y})\n",
    "\n",
    "# Linear Fit\n",
    "poly_1 = smf.ols(formula='y ~ 1 + X', data=train_df).fit()\n",
    "\n",
    "# Quadratic Fit\n",
    "poly_1 = smf.ols(formula='y ~ 1 + X + I(X**2)', data=train_df).fit()\n",
    "\n"
   ]
  }
 ],
 "metadata": {
  "kernelspec": {
   "display_name": "Python 2",
   "language": "python",
   "name": "python2"
  },
  "language_info": {
   "codemirror_mode": {
    "name": "ipython",
    "version": 2
   },
   "file_extension": ".py",
   "mimetype": "text/x-python",
   "name": "python",
   "nbconvert_exporter": "python",
   "pygments_lexer": "ipython2",
   "version": "2.7.11"
  }
 },
 "nbformat": 4,
 "nbformat_minor": 0
}
